{
 "cells": [
  {
   "cell_type": "markdown",
   "id": "4b82051c-03fe-4696-b95c-68bcec13e0ec",
   "metadata": {},
   "source": [
    "## Context manager"
   ]
  },
  {
   "cell_type": "markdown",
   "id": "c7e91ef0-3b1c-4956-8a40-d1f298d0d9d8",
   "metadata": {},
   "source": [
    "Context managers are a mechanism for automatically managing resources such as files, network connections, thread locks, etc. <br> \n",
    "Their main advantage is the automatic release of resources after completion of work."
   ]
  },
  {
   "cell_type": "markdown",
   "id": "b240c735-15f8-48e4-aeef-a43c00f077b8",
   "metadata": {},
   "source": [
    "### Creating context manager with decorator @contextmanager"
   ]
  },
  {
   "cell_type": "code",
   "execution_count": 8,
   "id": "dd4fd7d5-3f6a-4008-85ce-d39a6c53f448",
   "metadata": {},
   "outputs": [],
   "source": [
    "from contextlib import contextmanager"
   ]
  },
  {
   "cell_type": "code",
   "execution_count": 15,
   "id": "c59fec7b-6512-49d9-8628-081531cd8a53",
   "metadata": {},
   "outputs": [
    {
     "name": "stdout",
     "output_type": "stream",
     "text": [
      "File openning...\n",
      "Passes control to the with block\n",
      "Work inside with block\n",
      "File closing\n"
     ]
    }
   ],
   "source": [
    "@contextmanager\n",
    "def managed_file():\n",
    "\n",
    "    print('File openning...')\n",
    "    \n",
    "    yield print('Passes control to the with block')\n",
    "    \n",
    "    print('File closing')\n",
    "\n",
    "\n",
    "with managed_file():\n",
    "    print('Work inside with block')\n"
   ]
  },
  {
   "cell_type": "markdown",
   "id": "1057ae99-78d4-4e62-afd8-9c0fabf260b3",
   "metadata": {},
   "source": [
    "### Creating context manager with decorator @contextmanager using 'try, finally'"
   ]
  },
  {
   "cell_type": "code",
   "execution_count": null,
   "id": "71fb3d09-9efc-435f-898c-f3030159d29a",
   "metadata": {},
   "outputs": [],
   "source": [
    "@contextmanager\n",
    "def managed_file_2(file_name, mode):\n",
    "    \n",
    "    print('File openning...')\n",
    "    file = open(file_name, mode)\n",
    "    \n",
    "    try: \n",
    "        print('Passes control to the with block')\n",
    "        yield file\n",
    "\n",
    "    finally:\n",
    "        print('File closing')\n",
    "        file.close()"
   ]
  },
  {
   "cell_type": "code",
   "execution_count": 34,
   "id": "b71d632b-62ee-4683-8bd5-5b413509228c",
   "metadata": {},
   "outputs": [
    {
     "name": "stdout",
     "output_type": "stream",
     "text": [
      "File openning...\n",
      "Passes control to the with block\n",
      "Working in with block, showing the text inside file\n",
      "File closing\n"
     ]
    }
   ],
   "source": [
    "with managed_file_2('example.txt', 'r+') as f:\n",
    "    f.write(\"Working in with block, showing the text inside file\")\n",
    "    f.seek(0)\n",
    "    print(f.read())"
   ]
  },
  {
   "cell_type": "markdown",
   "id": "8b806cd5-5d12-4e12-9def-4a0ef9f75b08",
   "metadata": {},
   "source": [
    "### Practical exercise #1"
   ]
  },
  {
   "cell_type": "code",
   "execution_count": 41,
   "id": "6eba211a-bdc1-4762-9d99-b99ec5b215fa",
   "metadata": {},
   "outputs": [
    {
     "name": "stdout",
     "output_type": "stream",
     "text": [
      "D:\\other\\Learning\\python-practice\\fundamentals\n",
      "Current directory: D:\\other\\Learning\n",
      "Back to: D:\\other\\Learning\\python-practice\\fundamentals\n"
     ]
    }
   ],
   "source": [
    "import os\n",
    "\n",
    "@contextmanager\n",
    "def change_directory(new_path):\n",
    "\n",
    "    original_path = os.getcwd()\n",
    "    print(original_path)\n",
    "\n",
    "    try:\n",
    "        os.chdir(new_path) \n",
    "        yield\n",
    "    finally:\n",
    "        os.chdir(original_path)\n",
    "\n",
    "\n",
    "with change_directory('D:\\\\other\\\\Learning\\\\'):\n",
    "    print(\"Current directory:\", os.getcwd())\n",
    "\n",
    "print(\"Back to:\", os.getcwd())"
   ]
  },
  {
   "cell_type": "markdown",
   "id": "cd3ba00e-4fc7-47d8-b950-8d734b193a9b",
   "metadata": {},
   "source": [
    "### Practical exercise 2"
   ]
  },
  {
   "cell_type": "code",
   "execution_count": 51,
   "id": "db591587-f9b1-4acd-9a36-09655ad2935f",
   "metadata": {},
   "outputs": [
    {
     "name": "stdout",
     "output_type": "stream",
     "text": [
      "Working in with block, showing the text inside file\n",
      "File example.txt closed\n"
     ]
    }
   ],
   "source": [
    "@contextmanager\n",
    "def safe_open_file(filename, mode):\n",
    "\n",
    "    file = None\n",
    "\n",
    "    try:\n",
    "        file = open(filename,mode)\n",
    "        yield file\n",
    "    except FileNotFoundError:\n",
    "        print(f'File {filename} not found')\n",
    "        yield None\n",
    "    except PermissionError:\n",
    "        print(f'Access denied for {filename}')\n",
    "        yield None\n",
    "    finally:\n",
    "        if file and not file.closed:\n",
    "            file.close()\n",
    "            print(f'File {filename} closed')\n",
    "\n",
    "\n",
    "with safe_open_file('example.txt', 'r') as file:\n",
    "    if file:\n",
    "        print(file.read())\n",
    "        "
   ]
  },
  {
   "cell_type": "markdown",
   "id": "da3a6753-7ce5-4ce5-8581-2a3df8ba6816",
   "metadata": {},
   "source": [
    "### Context manager patterns\n",
    "\n",
    "1. Open - Close\n",
    "2. Lock - Relase\n",
    "3. Change - Reset\n",
    "4. Enter - Exit\n",
    "5. Start - Stop\n",
    "6. Setup - Teardown\n",
    "7. Connect - Disconnect"
   ]
  },
  {
   "cell_type": "code",
   "execution_count": null,
   "id": "355d466d-e5a2-49b8-931f-e9743de9b125",
   "metadata": {},
   "outputs": [],
   "source": []
  }
 ],
 "metadata": {
  "kernelspec": {
   "display_name": "Python 3 (ipykernel)",
   "language": "python",
   "name": "python3"
  },
  "language_info": {
   "codemirror_mode": {
    "name": "ipython",
    "version": 3
   },
   "file_extension": ".py",
   "mimetype": "text/x-python",
   "name": "python",
   "nbconvert_exporter": "python",
   "pygments_lexer": "ipython3",
   "version": "3.12.4"
  }
 },
 "nbformat": 4,
 "nbformat_minor": 5
}
